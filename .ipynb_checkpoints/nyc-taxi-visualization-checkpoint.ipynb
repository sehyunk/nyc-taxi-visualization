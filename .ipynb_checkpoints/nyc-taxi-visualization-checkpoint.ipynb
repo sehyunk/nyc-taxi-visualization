{
 "cells": [
  {
   "cell_type": "code",
   "execution_count": 69,
   "id": "c055afdb",
   "metadata": {},
   "outputs": [],
   "source": [
    "# 빅쿼리 데이터를 불러오기위한 쿼리\n",
    "query = '''\n",
    "# 위경도를 간략화 하기위한 db 테이블\n",
    "with db as (\n",
    "    select taxi.*,\n",
    "  \t\t\t\t\t# taxi의 실제 위경도 데이터를 zipcode에 해당하는 위경도 데이터로 바꿔서 사용합니다.\n",
    " \t\t\t\t\t\t# internal_point_lat은 특정 zipcode의 위도입니다.\n",
    "            pick.internal_point_lat as pickup_zip_code_lat,\n",
    "            pick.internal_point_lon as pickup_zip_code_lon,\n",
    "            drop.internal_point_lat as dropoff_zip_code_lat,\n",
    "            drop.internal_point_lon as dropoff_zip_code_lon\n",
    "    from (\n",
    "        select *\n",
    "        from `bigquery-public-data.new_york_taxi_trips.tlc_yellow_trips_2015`\n",
    "            # 1월 1일의 데이터만 필터링 합니다.\n",
    "\t\t\twhere extract (date from pickup_datetime) = '2015-01-01'\n",
    "      \t\t# 위도는 -90에서 90까지만 유효합니다. 그 외의 데이터는 오류이므로 제외합니다.\n",
    "            and pickup_latitude between -90 and 90\n",
    "            and dropoff_latitude between -90 and 90\n",
    "    ) as taxi # 실제 운영 기록이 담긴 taxi테이블\n",
    "        join (\n",
    "            select * \n",
    "            from `bigquery-public-data.geo_us_boundaries.zip_codes`\n",
    "          \t# 뉴욕시의 데이터만 필터링, 뉴욕 외의 지역에서 픽업한 데이터는 제외됩니다.\n",
    "            where state_code = 'NY'\n",
    "        ) as pick # 실제 픽업 위치의 위경도를 zipcode의 대표 위경도로 단일화시킬 pick테이블(join후 테이블 치환)\n",
    "  \t\t\t\t\t# taxi테이블의 위경도가 어느 zipcode에 해당되는지 찾아서 join시키기 위한 부분\n",
    "            on st_contains(pick.zip_code_geom, st_geogpoint(pickup_longitude, pickup_latitude))\n",
    "        join (\n",
    "            select *\n",
    "            from `bigquery-public-data.geo_us_boundaries.zip_codes`\n",
    "            where state_code = 'NY'\n",
    "        ) as drop # 실제 드랍 위치의 위경도를 치환할 drop테이블\n",
    "            on st_contains(drop.zip_code_geom, st_geogpoint(dropoff_longitude, dropoff_latitude))\n",
    ")\n",
    "select datetime_trunc(pickup_datetime, hour) as pickup_hour, # 시간대별로 집계\n",
    "    # 픽업/드랍 위경도: zipcode별로 단일화되어서 집계가 가능해짐\n",
    "    pickup_zip_code_lat,\n",
    "    pickup_zip_code_lon,\n",
    "    dropoff_zip_code_lat,\n",
    "    dropoff_zip_code_lon,\n",
    "    count(*) as cnt\n",
    "from db\n",
    "# 시간, 픽업/드랍 위경도별로 그룹바이\n",
    "group by 1,2,3,4,5\n",
    "# 집계 후 가운트가 적은 경우는 필터링\n",
    "having cnt >= 30\n",
    "'''"
   ]
  },
  {
   "cell_type": "code",
   "execution_count": 70,
   "id": "c4609b36",
   "metadata": {},
   "outputs": [],
   "source": [
    "# gbq로 빅쿼리 데이터 임포트\n",
    "df = pd.read_gbq(query = query, dialect = 'standard',project_id = \"public-data-projects\")"
   ]
  },
  {
   "cell_type": "code",
   "execution_count": 71,
   "id": "2316b6db",
   "metadata": {},
   "outputs": [
    {
     "data": {
      "text/html": [
       "<div>\n",
       "<style scoped>\n",
       "    .dataframe tbody tr th:only-of-type {\n",
       "        vertical-align: middle;\n",
       "    }\n",
       "\n",
       "    .dataframe tbody tr th {\n",
       "        vertical-align: top;\n",
       "    }\n",
       "\n",
       "    .dataframe thead th {\n",
       "        text-align: right;\n",
       "    }\n",
       "</style>\n",
       "<table border=\"1\" class=\"dataframe\">\n",
       "  <thead>\n",
       "    <tr style=\"text-align: right;\">\n",
       "      <th></th>\n",
       "      <th>pickup_hour</th>\n",
       "      <th>pickup_zip_code_lat</th>\n",
       "      <th>pickup_zip_code_lon</th>\n",
       "      <th>dropoff_zip_code_lat</th>\n",
       "      <th>dropoff_zip_code_lon</th>\n",
       "      <th>cnt</th>\n",
       "    </tr>\n",
       "  </thead>\n",
       "  <tbody>\n",
       "    <tr>\n",
       "      <th>2426</th>\n",
       "      <td>2015-01-01 11:00:00</td>\n",
       "      <td>40.726399</td>\n",
       "      <td>-73.978634</td>\n",
       "      <td>40.731829</td>\n",
       "      <td>-73.989181</td>\n",
       "      <td>31</td>\n",
       "    </tr>\n",
       "    <tr>\n",
       "      <th>2427</th>\n",
       "      <td>2015-01-01 20:00:00</td>\n",
       "      <td>40.765829</td>\n",
       "      <td>-73.987341</td>\n",
       "      <td>40.755332</td>\n",
       "      <td>-73.993139</td>\n",
       "      <td>40</td>\n",
       "    </tr>\n",
       "    <tr>\n",
       "      <th>2428</th>\n",
       "      <td>2015-01-01 03:00:00</td>\n",
       "      <td>40.750636</td>\n",
       "      <td>-73.997177</td>\n",
       "      <td>40.742043</td>\n",
       "      <td>-74.000620</td>\n",
       "      <td>55</td>\n",
       "    </tr>\n",
       "    <tr>\n",
       "      <th>2429</th>\n",
       "      <td>2015-01-01 12:00:00</td>\n",
       "      <td>40.745221</td>\n",
       "      <td>-73.978294</td>\n",
       "      <td>40.742043</td>\n",
       "      <td>-74.000620</td>\n",
       "      <td>33</td>\n",
       "    </tr>\n",
       "    <tr>\n",
       "      <th>2430</th>\n",
       "      <td>2015-01-01 18:00:00</td>\n",
       "      <td>40.725581</td>\n",
       "      <td>-73.998078</td>\n",
       "      <td>40.745221</td>\n",
       "      <td>-73.978294</td>\n",
       "      <td>35</td>\n",
       "    </tr>\n",
       "  </tbody>\n",
       "</table>\n",
       "</div>"
      ],
      "text/plain": [
       "             pickup_hour  pickup_zip_code_lat  pickup_zip_code_lon  \\\n",
       "2426 2015-01-01 11:00:00            40.726399           -73.978634   \n",
       "2427 2015-01-01 20:00:00            40.765829           -73.987341   \n",
       "2428 2015-01-01 03:00:00            40.750636           -73.997177   \n",
       "2429 2015-01-01 12:00:00            40.745221           -73.978294   \n",
       "2430 2015-01-01 18:00:00            40.725581           -73.998078   \n",
       "\n",
       "      dropoff_zip_code_lat  dropoff_zip_code_lon  cnt  \n",
       "2426             40.731829            -73.989181   31  \n",
       "2427             40.755332            -73.993139   40  \n",
       "2428             40.742043            -74.000620   55  \n",
       "2429             40.742043            -74.000620   33  \n",
       "2430             40.745221            -73.978294   35  "
      ]
     },
     "execution_count": 71,
     "metadata": {},
     "output_type": "execute_result"
    }
   ],
   "source": [
    "# 빅쿼리에서 시간별, 위경도별로 집계된 데이터\n",
    "df.tail()"
   ]
  },
  {
   "cell_type": "code",
   "execution_count": 82,
   "id": "6c42fd9a",
   "metadata": {},
   "outputs": [],
   "source": [
    "import pydeck as pdk\n",
    "\n",
    "layer1 = pdk.Layer(\n",
    "    'ArcLayer', # 사용할 레이어 타입\n",
    "    df,\n",
    "    get_source_position='[pickup_zip_code_lon, pickup_zip_code_lat]', # 출발 포지션\n",
    "    get_target_position='[dropoff_zip_code_lon, dropoff_zip_code_lat]', #도착 포지션\n",
    "    get_source_color= [0, 255, 0, 40],\n",
    "    get_target_color= [240, 100, 0, 40],\n",
    "    width_units='meters',\n",
    "    get_width=\"cnt\",\n",
    "    pickable= True,\n",
    "    auto_highlight=True,\n",
    ")\n",
    "\n",
    "nyc_center = [-73.98, 40.76] \n",
    "view_state = pdk.ViewState(longitude=nyc_center[0], \n",
    "                           latitude=nyc_center[1], zoom=11, pitch=35)\n"
   ]
  },
  {
   "cell_type": "code",
   "execution_count": 83,
   "id": "751c3789",
   "metadata": {},
   "outputs": [
    {
     "data": {
      "application/vnd.jupyter.widget-view+json": {
       "model_id": "56393457dc22459490fecd8e2004d84a",
       "version_major": 2,
       "version_minor": 0
      },
      "text/plain": [
       "DeckGLWidget(carto_key=None, custom_libraries=[], google_maps_key=None, json_input='{\"initialViewState\": {\"lat…"
      ]
     },
     "metadata": {},
     "output_type": "display_data"
    }
   ],
   "source": [
    "r = pdk.Deck(layers=[layer1], initial_view_state=view_state,\n",
    "             tooltip={\n",
    "                 'html': '<b>count:</b> {cnt}',\n",
    "                 'style': {\n",
    "                     'color': 'white'\n",
    "                 }\n",
    "             }\n",
    "            )\n",
    "r.picking_radius = 5000\n",
    "\n",
    "r.show()\n"
   ]
  },
  {
   "cell_type": "code",
   "execution_count": null,
   "id": "0a2ee7a9",
   "metadata": {},
   "outputs": [],
   "source": []
  },
  {
   "cell_type": "code",
   "execution_count": null,
   "id": "103fa33a",
   "metadata": {},
   "outputs": [],
   "source": []
  },
  {
   "cell_type": "code",
   "execution_count": null,
   "id": "e46f1cb4",
   "metadata": {},
   "outputs": [],
   "source": []
  },
  {
   "cell_type": "code",
   "execution_count": null,
   "id": "77359035",
   "metadata": {},
   "outputs": [],
   "source": []
  },
  {
   "cell_type": "code",
   "execution_count": null,
   "id": "2a5efa2c",
   "metadata": {},
   "outputs": [],
   "source": []
  }
 ],
 "metadata": {
  "kernelspec": {
   "display_name": "Python 3",
   "language": "python",
   "name": "python3"
  },
  "language_info": {
   "codemirror_mode": {
    "name": "ipython",
    "version": 3
   },
   "file_extension": ".py",
   "mimetype": "text/x-python",
   "name": "python",
   "nbconvert_exporter": "python",
   "pygments_lexer": "ipython3",
   "version": "3.8.8"
  }
 },
 "nbformat": 4,
 "nbformat_minor": 5
}
